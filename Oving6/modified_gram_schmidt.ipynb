{
 "cells": [
  {
   "cell_type": "code",
   "execution_count": 45,
   "metadata": {
    "collapsed": true
   },
   "outputs": [],
   "source": [
    "import numpy as np"
   ]
  },
  {
   "cell_type": "code",
   "execution_count": 46,
   "outputs": [],
   "source": [
    "\n",
    "def mod_gram_schmidt(a):\n",
    "    n, m = a.shape\n",
    "    q = np.copy(a)\n",
    "    for i in range(m):\n",
    "        y = a[:,i]\n",
    "        for j in range(i):\n",
    "            r = np.dot(q[:,j], y)\n",
    "            y = y - r* q[:, j]\n",
    "        q[:,i] = y / np.linalg.norm(y)\n",
    "\n",
    "    return q\n",
    "\n",
    "def r(q,a):\n",
    "    return np.matmul(q.T, a)"
   ],
   "metadata": {
    "collapsed": false,
    "pycharm": {
     "name": "#%%\n"
    }
   }
  },
  {
   "cell_type": "code",
   "execution_count": 47,
   "outputs": [
    {
     "name": "stdout",
     "output_type": "stream",
     "text": [
      "[[ 0.8 -0.6]\n",
      " [ 0.6  0.8]]\n"
     ]
    }
   ],
   "source": [
    "a = np.array([[4.,0.],\n",
    "              [3.,1.]])\n",
    "\n",
    "print(mod_gram_schmidt(a))\n",
    "\n"
   ],
   "metadata": {
    "collapsed": false,
    "pycharm": {
     "name": "#%%\n"
    }
   }
  }
 ],
 "metadata": {
  "kernelspec": {
   "display_name": "Python 3",
   "language": "python",
   "name": "python3"
  },
  "language_info": {
   "codemirror_mode": {
    "name": "ipython",
    "version": 2
   },
   "file_extension": ".py",
   "mimetype": "text/x-python",
   "name": "python",
   "nbconvert_exporter": "python",
   "pygments_lexer": "ipython2",
   "version": "2.7.6"
  }
 },
 "nbformat": 4,
 "nbformat_minor": 0
}