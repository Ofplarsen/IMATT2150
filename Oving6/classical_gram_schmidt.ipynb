{
 "cells": [
  {
   "cell_type": "code",
   "execution_count": 1,
   "metadata": {
    "collapsed": true
   },
   "outputs": [],
   "source": [
    "import numpy as np"
   ]
  },
  {
   "cell_type": "code",
   "execution_count": 14,
   "outputs": [],
   "source": [
    "def gram_schmidt(a):\n",
    "    n, m = a.shape\n",
    "    w = []\n",
    "    a = a.T\n",
    "    w.append(a[0])\n",
    "\n",
    "    for i in range(1,m):\n",
    "        w_loc = 1\n",
    "        w.append()\n",
    "\n",
    "    return w\n",
    "\n",
    "\n",
    "def qr(a):\n",
    "    return 0\n",
    "\n",
    "def r(q,a):\n",
    "    return np.matmul(q.T, a)\n",
    "\n",
    "\n",
    "\n"
   ],
   "metadata": {
    "collapsed": false,
    "pycharm": {
     "name": "#%%\n"
    }
   }
  },
  {
   "cell_type": "code",
   "execution_count": 15,
   "outputs": [
    {
     "name": "stdout",
     "output_type": "stream",
     "text": [
      "[matrix([[4, 3]])]\n"
     ]
    }
   ],
   "source": [
    "a = np.matrix([[4,0], [3,1]])\n",
    "\n",
    "\n",
    "print(gram_schmidt(a))"
   ],
   "metadata": {
    "collapsed": false,
    "pycharm": {
     "name": "#%%\n"
    }
   }
  }
 ],
 "metadata": {
  "kernelspec": {
   "display_name": "Python 3",
   "language": "python",
   "name": "python3"
  },
  "language_info": {
   "codemirror_mode": {
    "name": "ipython",
    "version": 2
   },
   "file_extension": ".py",
   "mimetype": "text/x-python",
   "name": "python",
   "nbconvert_exporter": "python",
   "pygments_lexer": "ipython2",
   "version": "2.7.6"
  }
 },
 "nbformat": 4,
 "nbformat_minor": 0
}