{
 "cells": [
  {
   "cell_type": "code",
   "execution_count": 27,
   "metadata": {
    "collapsed": true
   },
   "outputs": [],
   "source": [
    "import numpy as np"
   ]
  },
  {
   "cell_type": "code",
   "execution_count": 28,
   "outputs": [],
   "source": [
    "def gram_schmidt(a):\n",
    "    n, m = a.shape\n",
    "    w = []\n",
    "    print(a)\n",
    "    w.append(a.T[0])\n",
    "\n",
    "    for i in range(1,m):\n",
    "        w_loc = a.T[i]\n",
    "        print(w_loc)\n",
    "        for y in range(m-1):\n",
    "            s = np.dot((np.dot(w_loc,w[y])/np.dot(np.linalg.norm(w[y]), np.linalg.norm(w[y]))), w[y])\n",
    "            w_loc -= s\n",
    "        w.append(w_loc)\n",
    "\n",
    "    return w\n",
    "\n",
    "\n",
    "def qr(a):\n",
    "    return 0\n",
    "\n",
    "def r(q,a):\n",
    "    return np.matmul(q.T, a)\n",
    "\n",
    "\n",
    "\n"
   ],
   "metadata": {
    "collapsed": false,
    "pycharm": {
     "name": "#%%\n"
    }
   }
  },
  {
   "cell_type": "code",
   "execution_count": 29,
   "outputs": [
    {
     "name": "stdout",
     "output_type": "stream",
     "text": [
      "[[4 0]\n",
      " [3 1]]\n",
      "[0 1]\n"
     ]
    },
    {
     "ename": "UFuncTypeError",
     "evalue": "Cannot cast ufunc 'subtract' output from dtype('float64') to dtype('int64') with casting rule 'same_kind'",
     "output_type": "error",
     "traceback": [
      "\u001B[0;31m---------------------------------------------------------------------------\u001B[0m",
      "\u001B[0;31mUFuncTypeError\u001B[0m                            Traceback (most recent call last)",
      "Input \u001B[0;32mIn [29]\u001B[0m, in \u001B[0;36m<cell line: 4>\u001B[0;34m()\u001B[0m\n\u001B[1;32m      1\u001B[0m a \u001B[38;5;241m=\u001B[39m np\u001B[38;5;241m.\u001B[39marray([[\u001B[38;5;241m4\u001B[39m,\u001B[38;5;241m0\u001B[39m], [\u001B[38;5;241m3\u001B[39m,\u001B[38;5;241m1\u001B[39m]])\n\u001B[0;32m----> 4\u001B[0m \u001B[38;5;28mprint\u001B[39m(\u001B[43mgram_schmidt\u001B[49m\u001B[43m(\u001B[49m\u001B[43ma\u001B[49m\u001B[43m)\u001B[49m)\n",
      "Input \u001B[0;32mIn [28]\u001B[0m, in \u001B[0;36mgram_schmidt\u001B[0;34m(a)\u001B[0m\n\u001B[1;32m     10\u001B[0m     \u001B[38;5;28;01mfor\u001B[39;00m y \u001B[38;5;129;01min\u001B[39;00m \u001B[38;5;28mrange\u001B[39m(m\u001B[38;5;241m-\u001B[39m\u001B[38;5;241m1\u001B[39m):\n\u001B[1;32m     11\u001B[0m         s \u001B[38;5;241m=\u001B[39m np\u001B[38;5;241m.\u001B[39mdot((np\u001B[38;5;241m.\u001B[39mdot(w_loc,w[y])\u001B[38;5;241m/\u001B[39mnp\u001B[38;5;241m.\u001B[39mdot(np\u001B[38;5;241m.\u001B[39mlinalg\u001B[38;5;241m.\u001B[39mnorm(w[y]), np\u001B[38;5;241m.\u001B[39mlinalg\u001B[38;5;241m.\u001B[39mnorm(w[y]))), w[y])\n\u001B[0;32m---> 12\u001B[0m         w_loc \u001B[38;5;241m-\u001B[39m\u001B[38;5;241m=\u001B[39m s\n\u001B[1;32m     13\u001B[0m     w\u001B[38;5;241m.\u001B[39mappend(w_loc)\n\u001B[1;32m     15\u001B[0m \u001B[38;5;28;01mreturn\u001B[39;00m w\n",
      "\u001B[0;31mUFuncTypeError\u001B[0m: Cannot cast ufunc 'subtract' output from dtype('float64') to dtype('int64') with casting rule 'same_kind'"
     ]
    }
   ],
   "source": [
    "a = np.array([[4,0], [3,1]])\n",
    "\n",
    "\n",
    "print(gram_schmidt(a))"
   ],
   "metadata": {
    "collapsed": false,
    "pycharm": {
     "name": "#%%\n"
    }
   }
  }
 ],
 "metadata": {
  "kernelspec": {
   "display_name": "Python 3",
   "language": "python",
   "name": "python3"
  },
  "language_info": {
   "codemirror_mode": {
    "name": "ipython",
    "version": 2
   },
   "file_extension": ".py",
   "mimetype": "text/x-python",
   "name": "python",
   "nbconvert_exporter": "python",
   "pygments_lexer": "ipython2",
   "version": "2.7.6"
  }
 },
 "nbformat": 4,
 "nbformat_minor": 0
}