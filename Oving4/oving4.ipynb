{
 "cells": [
  {
   "cell_type": "code",
   "execution_count": 26,
   "metadata": {
    "collapsed": true
   },
   "outputs": [
    {
     "name": "stdout",
     "output_type": "stream",
     "text": [
      "[0.   0.25 0.5  0.75 1.  ]\n",
      "t       euler    error   \n",
      "0.00    1.000   0.000   \n",
      "0.25    1.000   0.031   \n",
      "0.50    1.062   0.062   \n",
      "0.75    1.188   0.094   \n",
      "1.00    1.375   0.125   \n"
     ]
    }
   ],
   "source": [
    "#oppg5\n",
    "import numpy as np\n",
    "\n",
    "def euler(f, y_init, h, t_slutt):\n",
    "   t = np.arange(0, t_slutt+h, h)\n",
    "   print(t)\n",
    "   y = np.zeros_like(t)\n",
    "   y[0] = y_init\n",
    "   for i in range(1,t.size):\n",
    "      y[i] = y[i-1] + h*f((i-1)*h)\n",
    "   return t, y\n",
    "\n",
    "f = lambda t: t\n",
    "y_exact = lambda t: 1/2*t**2+1\n",
    "t, y = euler(f, 1, 0.25, 1.0)\n",
    "error = np.abs(y-y_exact(t))\n",
    "\n",
    "headers = [\"t\", \"euler\", \"error\"]\n",
    "print(f\"{headers[0]:<8}{headers[1]:<8} {headers[2]:<8}\")\n",
    "for i in range(t.size):\n",
    "   print(f\"{t[i]:<8.2f}{y[i]:<8.3f}{error[i]:<8.3f}\")"
   ]
  },
  {
   "cell_type": "code",
   "execution_count": 1,
   "outputs": [
    {
     "name": "stdout",
     "output_type": "stream",
     "text": [
      "t       trapes   error   \n",
      "0.00    1.000   0.000   \n",
      "0.25    1.008   0.003   \n",
      "0.50    1.048   0.005   \n",
      "0.75    1.159   0.008   \n",
      "1.00    1.405   0.010   \n"
     ]
    }
   ],
   "source": [
    "#oppg7\n",
    "import numpy as np\n",
    "\n",
    "def trapes(f, y_init, h, t_slutt):\n",
    "   t = np.arange(0, t_slutt+h, h)\n",
    "   y = np.zeros_like(t)\n",
    "   y[0] =y_init\n",
    "   for i in range(1,t.size):\n",
    "      s1 = y[i-1] + h*f((i-1)*h, y[i-1])\n",
    "      s2 = y[i-1] + h/2*(f((i-1)*h, y[i-1]) + f(i*h, s1))\n",
    "      y[i] = s2\n",
    "   return t, y\n",
    "\n",
    "f = lambda t,y: t**2*y\n",
    "y_exact = lambda t: np.exp(1/3*t**3)\n",
    "t, y = trapes(f, 1, 0.25, 1.0)\n",
    "error = np.abs(y-y_exact(t))\n",
    "\n",
    "headers = [\"t\", \"trapes\", \"error\"]\n",
    "print(f\"{headers[0]:<8}{headers[1]:<8} {headers[2]:<8}\")\n",
    "for i in range(t.size):\n",
    "   print(f\"{t[i]:<8.2f}{y[i]:<8.3f}{error[i]:<8.3f}\")"
   ],
   "metadata": {
    "collapsed": false,
    "pycharm": {
     "name": "#%%\n"
    }
   }
  },
  {
   "cell_type": "code",
   "execution_count": 7,
   "outputs": [
    {
     "name": "stdout",
     "output_type": "stream",
     "text": [
      "5\n",
      "[[5. 0.]\n",
      " [0. 0.]\n",
      " [0. 0.]\n",
      " [0. 0.]\n",
      " [0. 0.]]\n",
      "[0.   0.25 0.5  0.75 1.  ] [[ 5.          0.        ]\n",
      " [ 6.25        2.5       ]\n",
      " [ 9.6875      6.875     ]\n",
      " [17.265625   15.15625   ]\n",
      " [32.94921875 31.3671875 ]]\n"
     ]
    }
   ],
   "source": [
    "#opgg 10\n",
    "\n",
    "import numpy as np\n",
    "\n",
    "def euler(f, y_init, h, t_slutt):\n",
    "   t = np.arange(0, t_slutt+h, h)\n",
    "   print(t)\n",
    "   y = np.zeros_like(t)\n",
    "   y[0] = y_init\n",
    "   for i in range(1,t.size):\n",
    "      y[i] = y[i-1] + h*f((i-1)*h)\n",
    "   return t, y\n",
    "\n",
    "# def euler2(f, y_init, start, stop, h):\n",
    "#    n = int((stop-???????\n",
    "#    t = np.arange(start, ?????????\n",
    "#    y = np.zeros([n, ??????????\n",
    "#    y[0,:] = ??????????\n",
    "#    for i in range(????):\n",
    "#       ????\n",
    "#       ????\n",
    "#    return t,y\n",
    "#\n",
    "# f = lambda y: np.array([y[0]+??????????????\n",
    "# y_exact = lambda t: np.array([3*np.exp(-t)+???????????\n",
    "# y_init = np.array([????????????????\n",
    "# t,y = euler(????????????????????\n",
    "\n",
    "def euler(f, y_init, start, stop, h):\n",
    "   n = int((stop-start)/h+1)\n",
    "   print(n)\n",
    "   t = np.arange(start, stop+h, h)\n",
    "   y = np.zeros([n,y_init.size])\n",
    "   y[0,:] = y_init\n",
    "   print(y)\n",
    "   for i in range(1, t.size):\n",
    "      y[i,:] = y[i-1,:] + h*f(y[i-1,:])\n",
    "   return t,y\n",
    "\n",
    "f = lambda y: np.array([y[0]+3*y[1], 2*y[0] + 2*y[1]])\n",
    "y_exact = lambda t: np.array([3*np.exp(-t)+2*np.exp(4*t), -2*np.exp(-t) + 2*np.exp(4*t)])\n",
    "y_init = np.array([5,0])\n",
    "t,y = euler(f,y_init, 0, 1, 1/4)\n",
    "print(t, y)"
   ],
   "metadata": {
    "collapsed": false,
    "pycharm": {
     "name": "#%%\n"
    }
   }
  }
 ],
 "metadata": {
  "kernelspec": {
   "display_name": "Python 3",
   "language": "python",
   "name": "python3"
  },
  "language_info": {
   "codemirror_mode": {
    "name": "ipython",
    "version": 2
   },
   "file_extension": ".py",
   "mimetype": "text/x-python",
   "name": "python",
   "nbconvert_exporter": "python",
   "pygments_lexer": "ipython2",
   "version": "2.7.6"
  }
 },
 "nbformat": 4,
 "nbformat_minor": 0
}