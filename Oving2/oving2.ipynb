{
 "cells": [
  {
   "cell_type": "code",
   "execution_count": 2,
   "metadata": {
    "collapsed": true
   },
   "outputs": [],
   "source": [
    "import numpy as np"
   ]
  },
  {
   "cell_type": "code",
   "execution_count": 4,
   "outputs": [
    {
     "name": "stdout",
     "output_type": "stream",
     "text": [
      "c: 2.0800833702087402\n",
      "(2.080082893371582, 2.0800838470458984, 2.0800833702087402)\n"
     ]
    }
   ],
   "source": [
    "#Oppg1\n",
    "def ivm(a, b):\n",
    "    return (a+b)/2\n",
    "\n",
    "def halvering_solve(f, a,b, tol):\n",
    "    c = ivm(a,b)\n",
    "    if abs(a-b) < tol:\n",
    "        print(\"c: \" + str(c))\n",
    "        return a, b, c\n",
    "\n",
    "    if f(a) * f(c) < 0:\n",
    "        return halvering_solve(f,a, c, tol)\n",
    "    if f(b) * f(c) < 0:\n",
    "        return halvering_solve(f,c, b, tol)\n",
    "\n",
    "a = 1\n",
    "b = 3\n",
    "f = lambda x: x**3-9#Hvilken funksjon f er det du skal finne roten av?\n",
    "maks_feil = 1.0*10**(-6)#Hva blir maks feil om x_sol skal være riktig med minst 6 desimaler?\n",
    "x_sol = halvering_solve(f,a,b, maks_feil) #Hva må startintervallet være?\n",
    "print(x_sol)"
   ],
   "metadata": {
    "collapsed": false,
    "pycharm": {
     "name": "#%%\n"
    }
   }
  },
  {
   "cell_type": "code",
   "execution_count": 53,
   "outputs": [
    {
     "ename": "KeyboardInterrupt",
     "evalue": "",
     "output_type": "error",
     "traceback": [
      "\u001B[0;31m---------------------------------------------------------------------------\u001B[0m",
      "\u001B[0;31mKeyboardInterrupt\u001B[0m                         Traceback (most recent call last)",
      "Input \u001B[0;32mIn [53]\u001B[0m, in \u001B[0;36m<cell line: 15>\u001B[0;34m()\u001B[0m\n\u001B[1;32m     14\u001B[0m sols \u001B[38;5;241m=\u001B[39m []\n\u001B[1;32m     15\u001B[0m \u001B[38;5;28;01mfor\u001B[39;00m f \u001B[38;5;129;01min\u001B[39;00m funcs:\n\u001B[0;32m---> 16\u001B[0m    x_sol \u001B[38;5;241m=\u001B[39m \u001B[43mfikspunkt_solve\u001B[49m\u001B[43m(\u001B[49m\u001B[43mf\u001B[49m\u001B[43m,\u001B[49m\u001B[43m \u001B[49m\u001B[38;5;241;43m1\u001B[39;49m\u001B[43m,\u001B[49m\u001B[43m \u001B[49m\u001B[43mmaks_feil\u001B[49m\u001B[43m)\u001B[49m\n\u001B[1;32m     17\u001B[0m    \u001B[38;5;28mprint\u001B[39m(x_sol)\n\u001B[1;32m     18\u001B[0m    sols\u001B[38;5;241m.\u001B[39mappend(x_sol)\n",
      "Input \u001B[0;32mIn [53]\u001B[0m, in \u001B[0;36mfikspunkt_solve\u001B[0;34m(f, x0, tol)\u001B[0m\n\u001B[1;32m      2\u001B[0m \u001B[38;5;28;01mdef\u001B[39;00m \u001B[38;5;21mfikspunkt_solve\u001B[39m(f, x0,tol):\n\u001B[0;32m----> 4\u001B[0m    \u001B[38;5;28;01mwhile\u001B[39;00m (\u001B[38;5;28mabs\u001B[39m(\u001B[43mf\u001B[49m\u001B[43m(\u001B[49m\u001B[43mx0\u001B[49m\u001B[43m)\u001B[49m\u001B[38;5;241m-\u001B[39mx0) \u001B[38;5;241m>\u001B[39m tol):\n\u001B[1;32m      5\u001B[0m        x0 \u001B[38;5;241m=\u001B[39m f(x0)\n\u001B[1;32m      7\u001B[0m    \u001B[38;5;28;01mreturn\u001B[39;00m x0\n",
      "Input \u001B[0;32mIn [53]\u001B[0m, in \u001B[0;36m<lambda>\u001B[0;34m(x)\u001B[0m\n\u001B[1;32m      5\u001B[0m        x0 \u001B[38;5;241m=\u001B[39m f(x0)\n\u001B[1;32m      7\u001B[0m    \u001B[38;5;28;01mreturn\u001B[39;00m x0\n\u001B[0;32m----> 9\u001B[0m f1 \u001B[38;5;241m=\u001B[39m \u001B[38;5;28;01mlambda\u001B[39;00m x: \u001B[43mx\u001B[49m\u001B[38;5;241;43m*\u001B[39;49m\u001B[38;5;241;43m*\u001B[39;49m\u001B[38;5;241;43m3\u001B[39;49m\u001B[38;5;241m-\u001B[39m\u001B[38;5;241m2\u001B[39m\u001B[38;5;241m*\u001B[39mx\u001B[38;5;241m-\u001B[39m\u001B[38;5;241m2\u001B[39m\n\u001B[1;32m     10\u001B[0m f2 \u001B[38;5;241m=\u001B[39m \u001B[38;5;28;01mlambda\u001B[39;00m x: np\u001B[38;5;241m.\u001B[39mexp(x) \u001B[38;5;241m+\u001B[39m \u001B[38;5;241m2\u001B[39m\u001B[38;5;241m*\u001B[39mx \u001B[38;5;241m-\u001B[39m \u001B[38;5;241m7\u001B[39m\n\u001B[1;32m     11\u001B[0m f3 \u001B[38;5;241m=\u001B[39m \u001B[38;5;28;01mlambda\u001B[39;00m x: np\u001B[38;5;241m.\u001B[39mexp(x) \u001B[38;5;241m+\u001B[39m np\u001B[38;5;241m.\u001B[39msin(x) \u001B[38;5;241m-\u001B[39m \u001B[38;5;241m4\u001B[39m \u001B[38;5;241m-\u001B[39m x\n",
      "\u001B[0;31mKeyboardInterrupt\u001B[0m: "
     ]
    }
   ],
   "source": [
    "#Oppg 2\n",
    "def fikspunkt_solve(f, x0,tol):\n",
    "\n",
    "   while (abs(f(x0)-x0) > tol):\n",
    "       x0 = f(x0)\n",
    "\n",
    "   return x0\n",
    "\n",
    "f1 = lambda x: x**3-2*x-2\n",
    "f2 = lambda x: np.exp(x) + 2*x - 7\n",
    "f3 = lambda x: np.exp(x) + np.sin(x) - 4 - x\n",
    "funcs = [f1,f2,f3]\n",
    "maks_feil = 1.0*10**(-8)\n",
    "sols = []\n",
    "for f in funcs:\n",
    "   x_sol = fikspunkt_solve(f, 1, maks_feil)\n",
    "   print(x_sol)\n",
    "   sols.append(x_sol)\n",
    "\n",
    "print(f\"Løsning til første ligning x = {sols[0]}\")\n",
    "print(f\"Løsning til andre ligning x = {sols[1]}\")\n",
    "print(f\"Løsning til tredje ligning x = {sols[2]}\")"
   ],
   "metadata": {
    "collapsed": false,
    "pycharm": {
     "name": "#%%\n"
    }
   }
  },
  {
   "cell_type": "code",
   "execution_count": 54,
   "outputs": [
    {
     "name": "stdout",
     "output_type": "stream",
     "text": [
      "0.9424777960769379\n"
     ]
    }
   ],
   "source": [
    "#Oppg6\n",
    "def V(r,h):\n",
    "    return 1/3*np.pi*r**2*h\n",
    "#---------> Kod i vei\n",
    "\n",
    "\n",
    "#<--------------\n",
    "h = 0.10\n",
    "#radius = ??? #La variabelen radius holde svaret ditt\n",
    "print(V(3, 0.1))"
   ],
   "metadata": {
    "collapsed": false,
    "pycharm": {
     "name": "#%%\n"
    }
   }
  }
 ],
 "metadata": {
  "kernelspec": {
   "display_name": "Python 3",
   "language": "python",
   "name": "python3"
  },
  "language_info": {
   "codemirror_mode": {
    "name": "ipython",
    "version": 2
   },
   "file_extension": ".py",
   "mimetype": "text/x-python",
   "name": "python",
   "nbconvert_exporter": "python",
   "pygments_lexer": "ipython2",
   "version": "2.7.6"
  }
 },
 "nbformat": 4,
 "nbformat_minor": 0
}