{
 "cells": [
  {
   "cell_type": "code",
   "execution_count": 2,
   "metadata": {
    "collapsed": true
   },
   "outputs": [],
   "source": [
    "import numpy as np"
   ]
  },
  {
   "cell_type": "code",
   "execution_count": 3,
   "outputs": [
    {
     "name": "stdout",
     "output_type": "stream",
     "text": [
      "c: 2.0800833702087402\n",
      "(2.080082893371582, 2.0800838470458984, 2.0800833702087402)\n"
     ]
    }
   ],
   "source": [
    "#Oppg1\n",
    "def ivm(a, b):\n",
    "    return (a+b)/2\n",
    "\n",
    "def halvering_solve(f, a,b, tol):\n",
    "    c = ivm(a,b)\n",
    "    if abs(a-b) < tol:\n",
    "        print(\"c: \" + str(c))\n",
    "        return a, b, c\n",
    "\n",
    "    if f(a) * f(c) < 0:\n",
    "        return halvering_solve(f,a, c, tol)\n",
    "    if f(b) * f(c) < 0:\n",
    "        return halvering_solve(f,c, b, tol)\n",
    "\n",
    "    return 0\n",
    "\n",
    "a = 1\n",
    "b = 3\n",
    "f = lambda x: x**3-9#Hvilken funksjon f er det du skal finne roten av?\n",
    "maks_feil = 1.0*10**(-6)#Hva blir maks feil om x_sol skal være riktig med minst 6 desimaler?\n",
    "x_sol = halvering_solve(f,a,b, maks_feil) #Hva må startintervallet være?\n",
    "print(x_sol)"
   ],
   "metadata": {
    "collapsed": false,
    "pycharm": {
     "name": "#%%\n"
    }
   }
  }
 ],
 "metadata": {
  "kernelspec": {
   "display_name": "Python 3",
   "language": "python",
   "name": "python3"
  },
  "language_info": {
   "codemirror_mode": {
    "name": "ipython",
    "version": 2
   },
   "file_extension": ".py",
   "mimetype": "text/x-python",
   "name": "python",
   "nbconvert_exporter": "python",
   "pygments_lexer": "ipython2",
   "version": "2.7.6"
  }
 },
 "nbformat": 4,
 "nbformat_minor": 0
}